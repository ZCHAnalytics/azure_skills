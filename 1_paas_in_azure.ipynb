{
 "cells": [
  {
   "cell_type": "markdown",
   "metadata": {},
   "source": [
    "## Configure Platform as a Service solution components in Azure Portal\n",
    "\n",
    "First I create a new Resource Group to help manage the project resources, chosing UK South as Azure region. \n",
    "\n",
    "I then configure the networking infrastructure by creating an Azure Virtual Network (VNet) with two subnets. \n",
    "\n",
    "I also create a Service Bus namespace that will help applications communicate and coordiante with each others.\n",
    "\n",
    "Finally I deploy an Azure Container Registry (ACR), a managed Docker Registry Service and make sure the Networking properties include `admin user`. "
   ]
  }
 ],
 "metadata": {
  "language_info": {
   "name": "python"
  }
 },
 "nbformat": 4,
 "nbformat_minor": 2
}
